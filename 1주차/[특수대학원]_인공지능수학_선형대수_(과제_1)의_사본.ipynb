{
  "nbformat": 4,
  "nbformat_minor": 0,
  "metadata": {
    "colab": {
      "provenance": []
    },
    "kernelspec": {
      "name": "python3",
      "display_name": "Python 3"
    }
  },
  "cells": [
    {
      "cell_type": "markdown",
      "metadata": {
        "id": "Fn6NoDwPmhNs"
      },
      "source": [
        "# 과제 목표\n",
        "\n",
        "파이썬 numpy 패키지를 이용해 행렬과 벡터를 정의하고, 이들에 대한 연산을 수행하는 코드를 작성합니다.\n",
        "\n",
        "참고자료: [링크](https://numpy.org/doc/stable/user/quickstart.html)"
      ]
    },
    {
      "cell_type": "markdown",
      "metadata": {
        "id": "T-kzn78qsK1W"
      },
      "source": [
        "## 행렬 정의\n",
        "\n",
        "다음의 3x3 행렬 $A$를 정의하는 numpy 코드를 작성하시오.\n",
        "\n",
        "$$ A =\n",
        "\\left[\n",
        "\\begin{array}{rrr}\n",
        " 1 &  2 &  1 \\\\\n",
        " 1 &  2 &  3 \\\\\n",
        " 2 &  3 & -1\n",
        "\\end{array}\n",
        "\\right]\n",
        "$$"
      ]
    },
    {
      "cell_type": "code",
      "metadata": {
        "id": "kvcJK1GfTqxA"
      },
      "source": [
        "import numpy as np\n",
        "import numpy.linalg"
      ],
      "execution_count": 1,
      "outputs": []
    },
    {
      "cell_type": "code",
      "metadata": {
        "id": "SqWHFBWsT3K7",
        "colab": {
          "base_uri": "https://localhost:8080/"
        },
        "outputId": "58b82189-4b35-444a-88c7-5672400c4f9d"
      },
      "source": [
        "# 행렬 코딩\n",
        "\n",
        "## TODO\n",
        "A = np.array([[1,2,1],[1,2,3],[2,3,-1]])\n",
        "\n",
        "print(A)\n",
        "print(np.shape(A))"
      ],
      "execution_count": 16,
      "outputs": [
        {
          "output_type": "stream",
          "name": "stdout",
          "text": [
            "[[ 1  2  1]\n",
            " [ 1  2  3]\n",
            " [ 2  3 -1]]\n",
            "(3, 3)\n"
          ]
        }
      ]
    },
    {
      "cell_type": "markdown",
      "metadata": {
        "id": "BZKBCNvtugaz"
      },
      "source": [
        "## 벡터 정의\n",
        "다음의 3-벡터 $\\mathbf{b}$를 정의하는 numpy 코드를 작성하시오.\n",
        "$$ \\mathbf{b} =\n",
        "\\left[\n",
        "\\begin{array}{rrr}\n",
        " 1 \\\\\n",
        " 3 \\\\\n",
        "-3\n",
        "\\end{array}\n",
        "\\right]\n",
        "$$"
      ]
    },
    {
      "cell_type": "code",
      "metadata": {
        "colab": {
          "base_uri": "https://localhost:8080/"
        },
        "id": "YFVDrsxxh6gc",
        "outputId": "16f1375d-003a-4de7-cc64-72589d2df143"
      },
      "source": [
        "# 벡터 코딩\n",
        "\n",
        "## TODO\n",
        "b = np.array([[1],[3],[-3]])\n",
        "\n",
        "print(b)\n",
        "print(np.shape(b))"
      ],
      "execution_count": 17,
      "outputs": [
        {
          "output_type": "stream",
          "name": "stdout",
          "text": [
            "[[ 1]\n",
            " [ 3]\n",
            " [-3]]\n",
            "(3, 1)\n"
          ]
        }
      ]
    },
    {
      "cell_type": "markdown",
      "metadata": {
        "id": "H6EsN_0ovDrW"
      },
      "source": [
        "## 역행렬 구하기\n",
        "\n",
        "3x3 행렬 $A$의 역행렬을 구하는 코드를 numpy의 linalg 서브모듈의 inv() 함수를 이용해 작성하시오.\n",
        "\n",
        "$$ A^{-1} =\n",
        "\\left[\n",
        "\\begin{array}{rrr}\n",
        " 1 &  2 &  1 \\\\\n",
        " 1 &  2 &  3 \\\\\n",
        " 2 &  3 & -1\n",
        "\\end{array}\n",
        "\\right]^{-1}\n",
        "$$\n",
        "\n",
        "참고자료: [링크](https://numpy.org/doc/stable/reference/generated/numpy.linalg.inv.html)"
      ]
    },
    {
      "cell_type": "code",
      "metadata": {
        "colab": {
          "base_uri": "https://localhost:8080/"
        },
        "id": "vE5nVm9uiAC_",
        "outputId": "0d0f3e25-8d04-411e-c72b-ab6af8d8101e"
      },
      "source": [
        "# 역행렬 구하기\n",
        "\n",
        "## TODO\n",
        "# A = np.array([[1,2,1],[1,2,3],[2,3,-1]])\n",
        "A_inv = np.linalg.inv(A)\n",
        "\n",
        "print(A_inv)\n",
        "print(np.shape(A_inv))"
      ],
      "execution_count": 18,
      "outputs": [
        {
          "output_type": "stream",
          "name": "stdout",
          "text": [
            "[[-5.5  2.5  2. ]\n",
            " [ 3.5 -1.5 -1. ]\n",
            " [-0.5  0.5 -0. ]]\n",
            "(3, 3)\n"
          ]
        }
      ]
    },
    {
      "cell_type": "markdown",
      "metadata": {
        "id": "5LyhlkgdvgB5"
      },
      "source": [
        "## 역행렬을 이용해 선형시스템 풀기\n",
        "\n",
        "역행렬을 이용해, 다음의 선형시스템 $A\\mathbf{x} = \\mathbf{b}$의 해를 구하는 구하는 코드를 작성하시오.\n",
        "\n",
        "$$\n",
        "\\left[\n",
        "\\begin{array}{rrr}\n",
        " 1 &  2 &  1 \\\\\n",
        " 1 &  2 &  3 \\\\\n",
        " 2 &  3 & -1\n",
        "\\end{array}\n",
        "\\right]\n",
        "\\left[\n",
        "\\begin{array}{rrr}\n",
        "x_1 \\\\\n",
        "x_2 \\\\\n",
        "x_3\n",
        "\\end{array}\n",
        "\\right]\n",
        "=\n",
        "\\left[\n",
        "\\begin{array}{rrr}\n",
        " 1 \\\\\n",
        " 3 \\\\\n",
        "-3\n",
        "\\end{array}\n",
        "\\right]\n",
        "$$"
      ]
    },
    {
      "cell_type": "code",
      "metadata": {
        "colab": {
          "base_uri": "https://localhost:8080/"
        },
        "id": "BcrQWuJ3iaFr",
        "outputId": "8453a03f-a0dd-4a9d-93a5-3e0483c0f9fc"
      },
      "source": [
        "# 역행렬을 이용한 선형시스템 Ax=b의 해 구하기\n",
        "\n",
        "# TODO\n",
        "# A = np.array([[1,2,1],[1,2,3],[2,3,-1]])\n",
        "# b = np.array([[1],[3],[-3]])\n",
        "x = A_inv @ b\n",
        "\n",
        "print(x)\n",
        "print(np.shape(x))"
      ],
      "execution_count": 19,
      "outputs": [
        {
          "output_type": "stream",
          "name": "stdout",
          "text": [
            "[[-4.]\n",
            " [ 2.]\n",
            " [ 1.]]\n",
            "(3, 1)\n"
          ]
        }
      ]
    },
    {
      "cell_type": "markdown",
      "metadata": {
        "id": "BOfmDAiFwSdl"
      },
      "source": [
        "## 선형시스템의 해 확인\n",
        "\n",
        "앞서 구한 $\\mathbf{x}$가 선형시스템 $A\\mathbf{x} = \\mathbf{b}$의 해(solution)로서 알맞게 구한 것인지 검증하는 코드를 작성하시오.\n",
        "\n",
        "방법: $A\\mathbf{x}$의 연산결과가 $\\mathbf{b}$와 충분히 가까운지를 검증한다. [참고자료: [링크](https://numpy.org/doc/stable/reference/generated/numpy.allclose.html)]"
      ]
    },
    {
      "cell_type": "code",
      "metadata": {
        "id": "1SpkpP1ajHX8",
        "colab": {
          "base_uri": "https://localhost:8080/"
        },
        "outputId": "8fdacea5-87c9-4ebd-c6c7-a4e918e99a95"
      },
      "source": [
        "## 결과 검증\n",
        "\n",
        "# TODO\n",
        "# A = np.array([[1,2,1],[1,2,3],[2,3,-1]])\n",
        "# b = np.array([[1],[3],[-3]])\n",
        "# x = A_inv @ b\n",
        "bb = A @ x\n",
        "\n",
        "if np.allclose(b, bb):\n",
        "  print(\"Ok\")\n",
        "else:\n",
        "  print(\"something wrong\")"
      ],
      "execution_count": 20,
      "outputs": [
        {
          "output_type": "stream",
          "name": "stdout",
          "text": [
            "Ok\n"
          ]
        }
      ]
    }
  ]
}
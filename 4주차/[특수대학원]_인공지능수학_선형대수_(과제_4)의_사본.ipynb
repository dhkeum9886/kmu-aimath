{
  "nbformat": 4,
  "nbformat_minor": 0,
  "metadata": {
    "colab": {
      "provenance": []
    },
    "kernelspec": {
      "name": "python3",
      "display_name": "Python 3"
    }
  },
  "cells": [
    {
      "cell_type": "markdown",
      "metadata": {
        "id": "Fn6NoDwPmhNs"
      },
      "source": [
        "# 과제 목표\n",
        "\n",
        "파이썬 numpy 패키지를 이용해 스칼라, 벡터, 행렬, 텐서 간의 변환을 수행하는 코드를 작성합니다.\n",
        "\n",
        "참고자료: [링크](https://numpy.org/doc/stable/reference/generated/numpy.reshape.html)"
      ]
    },
    {
      "cell_type": "code",
      "metadata": {
        "id": "kvcJK1GfTqxA"
      },
      "source": [
        "import numpy as np"
      ],
      "execution_count": 21,
      "outputs": []
    },
    {
      "cell_type": "markdown",
      "metadata": {
        "id": "YT7lLpnEH6ec"
      },
      "source": [
        "##스칼라\n",
        "\n",
        "스칼라 $s$의 초기값을 3으로 정의하는 numpy 코드를 작성하시오."
      ]
    },
    {
      "cell_type": "code",
      "metadata": {
        "colab": {
          "base_uri": "https://localhost:8080/"
        },
        "id": "hzykFn8FH9yL",
        "outputId": "449d9a66-f7de-4863-e01c-02eec7db3d2f"
      },
      "source": [
        "# TODO\n",
        "s = 3\n",
        "\n",
        "print(\"s:\", s)\n",
        "print(np.shape(s))"
      ],
      "execution_count": 22,
      "outputs": [
        {
          "output_type": "stream",
          "name": "stdout",
          "text": [
            "s: 3\n",
            "()\n"
          ]
        }
      ]
    },
    {
      "cell_type": "markdown",
      "metadata": {
        "id": "1Q8Jf6iWIXCD"
      },
      "source": [
        "### 스칼라 -> 벡터\n",
        "\n",
        "스칼라 $s$를 1-벡터 $\\mathbf{v}$로 변환하는 numpy 코드를 작성하시오."
      ]
    },
    {
      "cell_type": "code",
      "metadata": {
        "colab": {
          "base_uri": "https://localhost:8080/"
        },
        "id": "MujrmSLgIJ7p",
        "outputId": "51f46063-44a8-4a62-b6d4-c3c40ece9487"
      },
      "source": [
        "# TODO\n",
        "v = np.array([s])\n",
        "\n",
        "print(\"v:\", v)\n",
        "print(np.shape(v))"
      ],
      "execution_count": 23,
      "outputs": [
        {
          "output_type": "stream",
          "name": "stdout",
          "text": [
            "v: [3]\n",
            "(1,)\n"
          ]
        }
      ]
    },
    {
      "cell_type": "markdown",
      "metadata": {
        "id": "Q2N37p6NOWqX"
      },
      "source": [
        "### 스칼라 -> 행렬\n",
        "\n",
        "스칼라 $s$를 1x1 행렬 $\\mathbf{A}$로 변환하는 numpy 코드를 작성하시오."
      ]
    },
    {
      "cell_type": "code",
      "metadata": {
        "colab": {
          "base_uri": "https://localhost:8080/"
        },
        "id": "vU0qN-cUOgEG",
        "outputId": "31f3b6b8-bc04-4c57-d2de-f9eeb4101c7b"
      },
      "source": [
        "# TODO\n",
        "A = np.array([[s]])\n",
        "\n",
        "print(\"A:\", A)\n",
        "print(np.shape(A))"
      ],
      "execution_count": 24,
      "outputs": [
        {
          "output_type": "stream",
          "name": "stdout",
          "text": [
            "A: [[3]]\n",
            "(1, 1)\n"
          ]
        }
      ]
    },
    {
      "cell_type": "markdown",
      "metadata": {
        "id": "PExZuXDOOtei"
      },
      "source": [
        "### 스칼라 -> 3-텐서\n",
        "\n",
        "스칼라 $s$를 1x1x1 텐서 $\\mathbf{T}$로 변환하는 numpy 코드를 작성하시오."
      ]
    },
    {
      "cell_type": "code",
      "metadata": {
        "colab": {
          "base_uri": "https://localhost:8080/"
        },
        "id": "X6F13LvFOjQz",
        "outputId": "469e2d6e-ed84-44eb-f0ba-86fbbbfc1004"
      },
      "source": [
        "# TODO\n",
        "T = np.array([[[s]]])\n",
        "\n",
        "print(\"T:\", T)\n",
        "print(np.shape(T))"
      ],
      "execution_count": 25,
      "outputs": [
        {
          "output_type": "stream",
          "name": "stdout",
          "text": [
            "T: [[[3]]]\n",
            "(1, 1, 1)\n"
          ]
        }
      ]
    },
    {
      "cell_type": "markdown",
      "metadata": {
        "id": "GOvOE92EFTZy"
      },
      "source": [
        "## 벡터\n",
        "\n",
        "다음과 같은 초기값을 가지는 24-벡터 $\\mathbf{v}$를 정의하는 numpy 코드를 작성하시오.\n",
        "\n",
        "$$\n",
        "\\mathbf{v} =\n",
        "\\left[\n",
        "\\begin{array}{rrrrr}\n",
        " 1 &  2 &  \\cdots \\ 23 & 24\n",
        "\\end{array}\n",
        "\\right]\n",
        "$$"
      ]
    },
    {
      "cell_type": "code",
      "metadata": {
        "id": "SqWHFBWsT3K7",
        "colab": {
          "base_uri": "https://localhost:8080/"
        },
        "outputId": "2956e928-be04-4a0e-eda6-e91e6ac35bba"
      },
      "source": [
        "# 24-벡터\n",
        "# TODO\n",
        "v = np.arange(1, 25)\n",
        "\n",
        "print(\"v:\", v)\n",
        "print(np.shape(v))"
      ],
      "execution_count": 26,
      "outputs": [
        {
          "output_type": "stream",
          "name": "stdout",
          "text": [
            "v: [ 1  2  3  4  5  6  7  8  9 10 11 12 13 14 15 16 17 18 19 20 21 22 23 24]\n",
            "(24,)\n"
          ]
        }
      ]
    },
    {
      "cell_type": "code",
      "source": [],
      "metadata": {
        "id": "2Mz8gDYw696d"
      },
      "execution_count": null,
      "outputs": []
    },
    {
      "cell_type": "markdown",
      "metadata": {
        "id": "Qx_Um_GH55rF"
      },
      "source": [
        "### 벡터 -> 행렬\n",
        "\n",
        "24-벡터 $\\mathbf{v}$를 각각 1x24 행렬, 3x8 행렬, 6x4 행렬, 24x1 행렬 $\\mathbf{A}$로 변환하는 numpy 코드를 작성하시오."
      ]
    },
    {
      "cell_type": "code",
      "metadata": {
        "colab": {
          "base_uri": "https://localhost:8080/"
        },
        "id": "YYNV8UN-puA2",
        "outputId": "1306b35b-2cf9-4f0f-cb3b-3ce8badaa081"
      },
      "source": [
        "# 24-벡터 --> (1x24) 행렬\n",
        "# TODO\n",
        "A = v.reshape(1, 24)\n",
        "\n",
        "print(\"A:\", A)\n",
        "print(\"A:\", np.shape(A))"
      ],
      "execution_count": 27,
      "outputs": [
        {
          "output_type": "stream",
          "name": "stdout",
          "text": [
            "A: [[ 1  2  3  4  5  6  7  8  9 10 11 12 13 14 15 16 17 18 19 20 21 22 23 24]]\n",
            "A: (1, 24)\n"
          ]
        }
      ]
    },
    {
      "cell_type": "code",
      "metadata": {
        "colab": {
          "base_uri": "https://localhost:8080/"
        },
        "id": "YFVDrsxxh6gc",
        "outputId": "d3d1b750-60c8-4769-816a-8a99bbd3b835"
      },
      "source": [
        "# 24-벡터 --> (3x8) 행렬\n",
        "# TODO\n",
        "A = v.reshape(3, 8)\n",
        "\n",
        "\n",
        "print(\"A:\", A)\n",
        "print(\"A:\", np.shape(A))"
      ],
      "execution_count": 28,
      "outputs": [
        {
          "output_type": "stream",
          "name": "stdout",
          "text": [
            "A: [[ 1  2  3  4  5  6  7  8]\n",
            " [ 9 10 11 12 13 14 15 16]\n",
            " [17 18 19 20 21 22 23 24]]\n",
            "A: (3, 8)\n"
          ]
        }
      ]
    },
    {
      "cell_type": "code",
      "metadata": {
        "colab": {
          "base_uri": "https://localhost:8080/"
        },
        "id": "Pjvr8_nmGB61",
        "outputId": "e66f88c7-fe2e-418f-974b-4ee7bdb187f5"
      },
      "source": [
        "# 24-벡터 --> (6x4) 행렬\n",
        "# TODO\n",
        "A = v.reshape(6, 4)\n",
        "\n",
        "print(\"A:\", A)\n",
        "print(\"A:\", np.shape(A))"
      ],
      "execution_count": 29,
      "outputs": [
        {
          "output_type": "stream",
          "name": "stdout",
          "text": [
            "A: [[ 1  2  3  4]\n",
            " [ 5  6  7  8]\n",
            " [ 9 10 11 12]\n",
            " [13 14 15 16]\n",
            " [17 18 19 20]\n",
            " [21 22 23 24]]\n",
            "A: (6, 4)\n"
          ]
        }
      ]
    },
    {
      "cell_type": "code",
      "metadata": {
        "colab": {
          "base_uri": "https://localhost:8080/"
        },
        "id": "rFok-TdTHJu1",
        "outputId": "0f1a5810-418a-431a-cb14-b08e5d7a4f89"
      },
      "source": [
        "# 24-벡터 --> (24x1) 행렬\n",
        "\n",
        "# TODO\n",
        "A = v.reshape(24, 1)\n",
        "\n",
        "print(\"A:\", A)\n",
        "print(\"A:\", np.shape(A))"
      ],
      "execution_count": 30,
      "outputs": [
        {
          "output_type": "stream",
          "name": "stdout",
          "text": [
            "A: [[ 1]\n",
            " [ 2]\n",
            " [ 3]\n",
            " [ 4]\n",
            " [ 5]\n",
            " [ 6]\n",
            " [ 7]\n",
            " [ 8]\n",
            " [ 9]\n",
            " [10]\n",
            " [11]\n",
            " [12]\n",
            " [13]\n",
            " [14]\n",
            " [15]\n",
            " [16]\n",
            " [17]\n",
            " [18]\n",
            " [19]\n",
            " [20]\n",
            " [21]\n",
            " [22]\n",
            " [23]\n",
            " [24]]\n",
            "A: (24, 1)\n"
          ]
        }
      ]
    },
    {
      "cell_type": "markdown",
      "metadata": {
        "id": "GOooXNMhGmdA"
      },
      "source": [
        "### 벡터 -> 3-텐서\n",
        "\n",
        "24-벡터 $\\mathbf{v}$를 2x3x4 텐서 $\\mathbf{T}$로 변환하는 numpy 코드를 작성하시오."
      ]
    },
    {
      "cell_type": "code",
      "metadata": {
        "colab": {
          "base_uri": "https://localhost:8080/"
        },
        "id": "lTuKQJHwGkaL",
        "outputId": "f974b8b1-0d07-4621-aca9-989b99e16787"
      },
      "source": [
        "# 24-벡터 --> (2x3x4) 텐서 (즉, 2개의 (3x4)행렬)\n",
        "# TODO\n",
        "T = v.reshape(2,3,4)\n",
        "\n",
        "print(\"T:\", T)\n",
        "print(\"T:\", np.shape(T))"
      ],
      "execution_count": 31,
      "outputs": [
        {
          "output_type": "stream",
          "name": "stdout",
          "text": [
            "T: [[[ 1  2  3  4]\n",
            "  [ 5  6  7  8]\n",
            "  [ 9 10 11 12]]\n",
            "\n",
            " [[13 14 15 16]\n",
            "  [17 18 19 20]\n",
            "  [21 22 23 24]]]\n",
            "T: (2, 3, 4)\n"
          ]
        }
      ]
    },
    {
      "cell_type": "markdown",
      "metadata": {
        "id": "3Bl3v__7_uqi"
      },
      "source": [
        "### 벡터 -> 스칼라\n",
        "\n",
        "24-벡터 $\\mathbf{v}$의 모든 요소(element)를 합해, 스칼라 $s$로 나타내는 numpy 코드를 작성하시오."
      ]
    },
    {
      "cell_type": "code",
      "metadata": {
        "colab": {
          "base_uri": "https://localhost:8080/"
        },
        "id": "U2Eq5NVt_-wH",
        "outputId": "6b2dad20-ab39-453b-9f22-12b85192f024"
      },
      "source": [
        "# TODO\n",
        "s = np.sum(v)\n",
        "\n",
        "print(s)"
      ],
      "execution_count": 32,
      "outputs": [
        {
          "output_type": "stream",
          "name": "stdout",
          "text": [
            "300\n"
          ]
        }
      ]
    },
    {
      "cell_type": "markdown",
      "metadata": {
        "id": "fZcGqAtSSTKF"
      },
      "source": [
        "## 행렬\n",
        "\n",
        "다음의 4x3 행렬 $A$를 정의하는 numpy 코드를 작성하시오.\n",
        "\n",
        "$$ A =\n",
        "\\left[\n",
        "\\begin{array}{rrrr}\n",
        " 1 &  2 &  3 \\\\\n",
        " 4 &  5 &  6 \\\\\n",
        " 7 &  8 &  9 \\\\\n",
        "10 & 11 & 12 \\\\\n",
        "\\end{array}\n",
        "\\right]\n",
        "$$"
      ]
    },
    {
      "cell_type": "code",
      "metadata": {
        "colab": {
          "base_uri": "https://localhost:8080/"
        },
        "id": "gU2C9qydRgsU",
        "outputId": "900a1370-c1e7-4cc7-f3d1-53e99c6be0e3"
      },
      "source": [
        "# TODO\n",
        "A = np.arange(1, 13).reshape(4, 3)\n",
        "\n",
        "print(A)\n",
        "print(np.shape(A))"
      ],
      "execution_count": 33,
      "outputs": [
        {
          "output_type": "stream",
          "name": "stdout",
          "text": [
            "[[ 1  2  3]\n",
            " [ 4  5  6]\n",
            " [ 7  8  9]\n",
            " [10 11 12]]\n",
            "(4, 3)\n"
          ]
        }
      ]
    },
    {
      "cell_type": "markdown",
      "metadata": {
        "id": "gPp7RKZ7Sp_L"
      },
      "source": [
        "### 행렬 -> 3-텐서\n",
        "\n",
        "4x3 행렬 $A$를 2x3x2 텐서 $\\mathbf{T}$로 변환하는 numpy 코드를 작성하시오."
      ]
    },
    {
      "cell_type": "code",
      "metadata": {
        "colab": {
          "base_uri": "https://localhost:8080/"
        },
        "id": "jJe0Im38ACVz",
        "outputId": "15aafb83-ebc7-4070-8b50-029ef473d37d"
      },
      "source": [
        "# 4x3 행렬 --> (2x3x2) 텐서\n",
        "# TODO\n",
        "T = A.reshape(2, 3, 2)\n",
        "\n",
        "print(T)\n",
        "print(np.shape(T))"
      ],
      "execution_count": 34,
      "outputs": [
        {
          "output_type": "stream",
          "name": "stdout",
          "text": [
            "[[[ 1  2]\n",
            "  [ 3  4]\n",
            "  [ 5  6]]\n",
            "\n",
            " [[ 7  8]\n",
            "  [ 9 10]\n",
            "  [11 12]]]\n",
            "(2, 3, 2)\n"
          ]
        }
      ]
    },
    {
      "cell_type": "markdown",
      "metadata": {
        "id": "pu1LEUrQTlBH"
      },
      "source": [
        "### 행렬 -> 벡터\n",
        "\n",
        "4x3 행렬 $A$를 12-벡터 $\\mathbf{v}$로 변환하는 numpy 코드를 작성하시오."
      ]
    },
    {
      "cell_type": "code",
      "metadata": {
        "colab": {
          "base_uri": "https://localhost:8080/"
        },
        "id": "Fg-9YGgUAgLc",
        "outputId": "440bc1d4-c480-4442-a0c9-7dafe18e8e5c"
      },
      "source": [
        "# TODO\n",
        "v = A.reshape(12)\n",
        "\n",
        "print(v)\n",
        "print(np.shape(v))"
      ],
      "execution_count": 35,
      "outputs": [
        {
          "output_type": "stream",
          "name": "stdout",
          "text": [
            "[ 1  2  3  4  5  6  7  8  9 10 11 12]\n",
            "(12,)\n"
          ]
        }
      ]
    },
    {
      "cell_type": "markdown",
      "metadata": {
        "id": "XoAZVgfyT2h8"
      },
      "source": [
        "### 행렬 -> 스칼라\n",
        "\n",
        "4x3 행렬 $A$의 모든 요소(element)를 합해, 스칼라 $s$로 나타내는 numpy 코드를 작성하시오."
      ]
    },
    {
      "cell_type": "code",
      "metadata": {
        "colab": {
          "base_uri": "https://localhost:8080/"
        },
        "id": "Z4DEh2rMAy46",
        "outputId": "77749778-435a-4180-f9c2-7b3ddc153120"
      },
      "source": [
        "# TODO\n",
        "s = np.sum(A)\n",
        "\n",
        "print(s)\n",
        "print(np.shape(s))"
      ],
      "execution_count": 36,
      "outputs": [
        {
          "output_type": "stream",
          "name": "stdout",
          "text": [
            "78\n",
            "()\n"
          ]
        }
      ]
    }
  ]
}
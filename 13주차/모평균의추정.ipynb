{
 "cells": [
  {
   "metadata": {},
   "cell_type": "markdown",
   "source": "## 점추정",
   "id": "577943fa8bc66f05"
  },
  {
   "metadata": {
    "ExecuteTime": {
     "end_time": "2025-05-28T03:26:56.627322Z",
     "start_time": "2025-05-28T03:26:56.621122Z"
    }
   },
   "cell_type": "code",
   "source": [
    "import numpy as np\n",
    "\n",
    "# 표본평균이점추정값(추정량)이됨\n",
    "\n",
    "samples = [9, 4, 0, 8, 1, 3, 7, 8, 4, 2]\n",
    "\n",
    "print(np.mean(samples))"
   ],
   "id": "9cc6c13ac33501da",
   "outputs": [
    {
     "name": "stdout",
     "output_type": "stream",
     "text": [
      "4.6\n"
     ]
    }
   ],
   "execution_count": 3
  },
  {
   "metadata": {},
   "cell_type": "markdown",
   "source": "## 모평균의 추정",
   "id": "503680b80c9c51bf"
  },
  {
   "metadata": {
    "ExecuteTime": {
     "end_time": "2025-05-28T03:30:00.885986Z",
     "start_time": "2025-05-28T03:30:00.196689Z"
    }
   },
   "cell_type": "code",
   "source": [
    "\"\"\"\n",
    "어떤농장에서생산된계란30개의표본을\n",
    "뽑았더니그무게가아래와같다.\n",
    " w=[10.7, 11.7, 9.8, 11.4, 10.8, 9.9, 10.1, 8.8, 12.2, 11.0, 11.3,\n",
    "11.1, 10.3, 10.0, 9.9, 11.1, 11.7, 11.5, 9.1, 10.3, 8.6, 12.1, 10.0,\n",
    "13.0, 9.2, 9.8, 9.3, 9.4, 9.6, 9.2]\n",
    " 계란의평균무게에대한95% 신뢰구간을\n",
    "구하시오\n",
    "\"\"\"\n",
    "\n",
    "import numpy as np\n",
    "import scipy.stats\n",
    "\n",
    "w = [10.7, 11.7, 9.8, 11.4, 10.8, 9.9, 10.1, 8.8, 12.2, 11.0, 11.3,\n",
    "     11.1, 10.3, 10.0, 9.9, 11.1, 11.7, 11.5, 9.1, 10.3, 8.6, 12.1,\n",
    "     10.0, 13.0, 9.2, 9.8, 9.3, 9.4, 9.6, 9.2]\n",
    "\n",
    "xbar = np.mean(w)\n",
    "\n",
    "sd = np.std(w, ddof=1)\n",
    "\n",
    "print(\"평균 %.2f, 표준편차: %.2f\" % (xbar, sd))\n",
    "\n",
    "# 1 - 0.95\n",
    "alpha = 0.05\n",
    "\n",
    "zalpha = scipy.stats.norm.ppf(1 - alpha / 2)\n",
    "\n",
    "print(\"zalpha: \", zalpha)"
   ],
   "id": "b80e083946292d6d",
   "outputs": [
    {
     "name": "stdout",
     "output_type": "stream",
     "text": [
      "평균 10.43, 표준편차: 1.11\n",
      "zalpha:  1.959963984540054\n"
     ]
    }
   ],
   "execution_count": 4
  },
  {
   "metadata": {},
   "cell_type": "markdown",
   "source": "## 모비율의 추정",
   "id": "2e26899248c9d504"
  },
  {
   "metadata": {
    "ExecuteTime": {
     "end_time": "2025-05-28T03:59:09.237345Z",
     "start_time": "2025-05-28T03:59:09.233977Z"
    }
   },
   "cell_type": "code",
   "source": [
    "\"\"\"\n",
    "대학교1학년생의흡연율을조사하기위해150명을\n",
    "랜덤하게선택하여흡연여부를조사하였다. 이중\n",
    "48명이흡연을하고있었다.\n",
    "\n",
    "이대학교1학년생의\n",
    "흡연율의평균을점추정하시오\n",
    "\n",
    "흡연율𝑝의95%신뢰구간(confidence interval) 을\n",
    "구하시오\n",
    "\"\"\"\n",
    "\n",
    "import numpy as np\n",
    "import scipy.stats\n",
    "\n",
    "x = 48\n",
    "n = 150\n",
    "phat = x / n\n",
    "alpha = 0.05\n",
    "zalpha = scipy.stats.norm.ppf(1 - alpha / 2)\n",
    "sd = np.sqrt(phat * (1 - phat) / n)\n",
    "print(\"phat %.3f, zalpha: %.3f, sd: %.3f\" % (phat, zalpha, sd))\n",
    "ci = [phat - zalpha * sd, phat + zalpha * sd]\n",
    "print(ci)"
   ],
   "id": "d72f727bf628e601",
   "outputs": [
    {
     "name": "stdout",
     "output_type": "stream",
     "text": [
      "phat 0.320, zalpha: 1.960, sd: 0.038\n",
      "[np.float64(0.24534963990338954), np.float64(0.3946503600966105)]\n"
     ]
    }
   ],
   "execution_count": 5
  }
 ],
 "metadata": {
  "kernelspec": {
   "display_name": "Python 3",
   "language": "python",
   "name": "python3"
  },
  "language_info": {
   "codemirror_mode": {
    "name": "ipython",
    "version": 2
   },
   "file_extension": ".py",
   "mimetype": "text/x-python",
   "name": "python",
   "nbconvert_exporter": "python",
   "pygments_lexer": "ipython2",
   "version": "2.7.6"
  }
 },
 "nbformat": 4,
 "nbformat_minor": 5
}

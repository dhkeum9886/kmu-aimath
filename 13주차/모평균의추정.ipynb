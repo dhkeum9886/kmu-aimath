{
 "cells": [
  {
   "metadata": {},
   "cell_type": "markdown",
   "source": "## 점추정",
   "id": "577943fa8bc66f05"
  },
  {
   "metadata": {
    "ExecuteTime": {
     "end_time": "2025-05-28T09:50:04.063248Z",
     "start_time": "2025-05-28T09:50:03.948159Z"
    }
   },
   "cell_type": "code",
   "source": [
    "import numpy as np\n",
    "\n",
    "# 표본평균이점추정값(추정량)이됨\n",
    "\n",
    "samples = [9, 4, 0, 8, 1, 3, 7, 8, 4, 2]\n",
    "\n",
    "print(np.mean(samples))"
   ],
   "id": "9cc6c13ac33501da",
   "outputs": [
    {
     "name": "stdout",
     "output_type": "stream",
     "text": [
      "4.6\n"
     ]
    }
   ],
   "execution_count": 1
  },
  {
   "metadata": {},
   "cell_type": "markdown",
   "source": "## 모평균의 추정",
   "id": "503680b80c9c51bf"
  },
  {
   "metadata": {
    "ExecuteTime": {
     "end_time": "2025-05-28T09:50:07.568144Z",
     "start_time": "2025-05-28T09:50:07.192841Z"
    }
   },
   "cell_type": "code",
   "source": [
    "\"\"\"\n",
    "어떤농장에서생산된계란30개의표본을\n",
    "뽑았더니그무게가아래와같다.\n",
    " w=[10.7, 11.7, 9.8, 11.4, 10.8, 9.9, 10.1, 8.8, 12.2, 11.0, 11.3,\n",
    "11.1, 10.3, 10.0, 9.9, 11.1, 11.7, 11.5, 9.1, 10.3, 8.6, 12.1, 10.0,\n",
    "13.0, 9.2, 9.8, 9.3, 9.4, 9.6, 9.2]\n",
    " 계란의평균무게에대한95% 신뢰구간을\n",
    "구하시오\n",
    "\"\"\"\n",
    "\n",
    "import numpy as np\n",
    "import scipy.stats\n",
    "\n",
    "w = [10.7, 11.7, 9.8, 11.4, 10.8, 9.9, 10.1, 8.8, 12.2, 11.0, 11.3,\n",
    "     11.1, 10.3, 10.0, 9.9, 11.1, 11.7, 11.5, 9.1, 10.3, 8.6, 12.1,\n",
    "     10.0, 13.0, 9.2, 9.8, 9.3, 9.4, 9.6, 9.2]\n",
    "\n",
    "xbar = np.mean(w)\n",
    "\n",
    "sd = np.std(w, ddof=1)\n",
    "\n",
    "print(\"평균 %.2f, 표준편차: %.2f\" % (xbar, sd))\n",
    "\n",
    "# 1 - 0.95\n",
    "alpha = 0.05\n",
    "\n",
    "zalpha = scipy.stats.norm.ppf(1 - alpha / 2)\n",
    "\n",
    "print(\"zalpha: \", zalpha)"
   ],
   "id": "b80e083946292d6d",
   "outputs": [
    {
     "ename": "ModuleNotFoundError",
     "evalue": "No module named 'scipy'",
     "output_type": "error",
     "traceback": [
      "\u001B[31m---------------------------------------------------------------------------\u001B[39m",
      "\u001B[31mModuleNotFoundError\u001B[39m                       Traceback (most recent call last)",
      "\u001B[36mCell\u001B[39m\u001B[36m \u001B[39m\u001B[32mIn[2]\u001B[39m\u001B[32m, line 12\u001B[39m\n\u001B[32m      1\u001B[39m \u001B[33;03m\"\"\"\u001B[39;00m\n\u001B[32m      2\u001B[39m \u001B[33;03m어떤농장에서생산된계란30개의표본을\u001B[39;00m\n\u001B[32m      3\u001B[39m \u001B[33;03m뽑았더니그무게가아래와같다.\u001B[39;00m\n\u001B[32m   (...)\u001B[39m\u001B[32m      8\u001B[39m \u001B[33;03m구하시오\u001B[39;00m\n\u001B[32m      9\u001B[39m \u001B[33;03m\"\"\"\u001B[39;00m\n\u001B[32m     11\u001B[39m \u001B[38;5;28;01mimport\u001B[39;00m\u001B[38;5;250m \u001B[39m\u001B[34;01mnumpy\u001B[39;00m\u001B[38;5;250m \u001B[39m\u001B[38;5;28;01mas\u001B[39;00m\u001B[38;5;250m \u001B[39m\u001B[34;01mnp\u001B[39;00m\n\u001B[32m---> \u001B[39m\u001B[32m12\u001B[39m \u001B[38;5;28;01mimport\u001B[39;00m\u001B[38;5;250m \u001B[39m\u001B[34;01mscipy\u001B[39;00m\u001B[34;01m.\u001B[39;00m\u001B[34;01mstats\u001B[39;00m\n\u001B[32m     14\u001B[39m w = [\u001B[32m10.7\u001B[39m, \u001B[32m11.7\u001B[39m, \u001B[32m9.8\u001B[39m, \u001B[32m11.4\u001B[39m, \u001B[32m10.8\u001B[39m, \u001B[32m9.9\u001B[39m, \u001B[32m10.1\u001B[39m, \u001B[32m8.8\u001B[39m, \u001B[32m12.2\u001B[39m, \u001B[32m11.0\u001B[39m, \u001B[32m11.3\u001B[39m,\n\u001B[32m     15\u001B[39m      \u001B[32m11.1\u001B[39m, \u001B[32m10.3\u001B[39m, \u001B[32m10.0\u001B[39m, \u001B[32m9.9\u001B[39m, \u001B[32m11.1\u001B[39m, \u001B[32m11.7\u001B[39m, \u001B[32m11.5\u001B[39m, \u001B[32m9.1\u001B[39m, \u001B[32m10.3\u001B[39m, \u001B[32m8.6\u001B[39m, \u001B[32m12.1\u001B[39m,\n\u001B[32m     16\u001B[39m      \u001B[32m10.0\u001B[39m, \u001B[32m13.0\u001B[39m, \u001B[32m9.2\u001B[39m, \u001B[32m9.8\u001B[39m, \u001B[32m9.3\u001B[39m, \u001B[32m9.4\u001B[39m, \u001B[32m9.6\u001B[39m, \u001B[32m9.2\u001B[39m]\n\u001B[32m     18\u001B[39m xbar = np.mean(w)\n",
      "\u001B[31mModuleNotFoundError\u001B[39m: No module named 'scipy'"
     ]
    }
   ],
   "execution_count": 2
  },
  {
   "metadata": {},
   "cell_type": "markdown",
   "source": "## 모비율의 추정",
   "id": "2e26899248c9d504"
  },
  {
   "metadata": {
    "ExecuteTime": {
     "end_time": "2025-05-28T03:59:09.237345Z",
     "start_time": "2025-05-28T03:59:09.233977Z"
    }
   },
   "cell_type": "code",
   "source": [
    "\"\"\"\n",
    "대학교1학년생의흡연율을조사하기위해150명을\n",
    "랜덤하게선택하여흡연여부를조사하였다. 이중\n",
    "48명이흡연을하고있었다.\n",
    "\n",
    "이대학교1학년생의\n",
    "흡연율의평균을점추정하시오\n",
    "\n",
    "흡연율𝑝의95%신뢰구간(confidence interval) 을\n",
    "구하시오\n",
    "\"\"\"\n",
    "\n",
    "import numpy as np\n",
    "import scipy.stats\n",
    "\n",
    "x = 48\n",
    "n = 150\n",
    "phat = x / n\n",
    "alpha = 0.05\n",
    "zalpha = scipy.stats.norm.ppf(1 - alpha / 2)\n",
    "sd = np.sqrt(phat * (1 - phat) / n)\n",
    "print(\"phat %.3f, zalpha: %.3f, sd: %.3f\" % (phat, zalpha, sd))\n",
    "ci = [phat - zalpha * sd, phat + zalpha * sd]\n",
    "print(ci)"
   ],
   "id": "d72f727bf628e601",
   "outputs": [
    {
     "name": "stdout",
     "output_type": "stream",
     "text": [
      "phat 0.320, zalpha: 1.960, sd: 0.038\n",
      "[np.float64(0.24534963990338954), np.float64(0.3946503600966105)]\n"
     ]
    }
   ],
   "execution_count": 5
  }
 ],
 "metadata": {
  "kernelspec": {
   "display_name": "Python 3",
   "language": "python",
   "name": "python3"
  },
  "language_info": {
   "codemirror_mode": {
    "name": "ipython",
    "version": 2
   },
   "file_extension": ".py",
   "mimetype": "text/x-python",
   "name": "python",
   "nbconvert_exporter": "python",
   "pygments_lexer": "ipython2",
   "version": "2.7.6"
  }
 },
 "nbformat": 4,
 "nbformat_minor": 5
}
